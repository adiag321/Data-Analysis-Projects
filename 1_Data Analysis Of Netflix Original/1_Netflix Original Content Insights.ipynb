{
 "cells": [
  {
   "cell_type": "markdown",
   "metadata": {},
   "source": [
    "# Netflix Original Content Insights"
   ]
  },
  {
   "cell_type": "markdown",
   "metadata": {},
   "source": [
    "I created a dataset of notable Netflix TV and Film information to gather insights on which kind of content obtains the best ratings. Notable refers to productions that recieved more attention from subscibers/media coverage, and not necessarily meaning they were popular.\n",
    "\n",
    "References: [Business Insider](https://www.businessinsider.com/best-netflix-original-shows-ranked-2017-11#79-disjointed-22-4), [Esquire](https://www.esquire.com/entertainment/movies/g26239130/best-netflix-original-movies/)"
   ]
  },
  {
   "cell_type": "code",
   "execution_count": 1,
   "metadata": {},
   "outputs": [],
   "source": [
    "import numpy as np\n",
    "import pandas as pd\n",
    "import seaborn as sns\n",
    "import matplotlib.pyplot as plt\n",
    "%matplotlib inline"
   ]
  },
  {
   "cell_type": "code",
   "execution_count": 2,
   "metadata": {},
   "outputs": [],
   "source": [
    "netflix = pd.read_csv(\"Netflix Original Content Dataset.csv\")"
   ]
  },
  {
   "cell_type": "code",
   "execution_count": 25,
   "metadata": {},
   "outputs": [
    {
     "data": {
      "text/html": [
       "<div>\n",
       "<style scoped>\n",
       "    .dataframe tbody tr th:only-of-type {\n",
       "        vertical-align: middle;\n",
       "    }\n",
       "\n",
       "    .dataframe tbody tr th {\n",
       "        vertical-align: top;\n",
       "    }\n",
       "\n",
       "    .dataframe thead th {\n",
       "        text-align: right;\n",
       "    }\n",
       "</style>\n",
       "<table border=\"1\" class=\"dataframe\">\n",
       "  <thead>\n",
       "    <tr style=\"text-align: right;\">\n",
       "      <th></th>\n",
       "      <th>Title</th>\n",
       "      <th>Type</th>\n",
       "      <th>Year Released</th>\n",
       "      <th>Seasons</th>\n",
       "      <th>Main Actor</th>\n",
       "      <th>Genre</th>\n",
       "      <th>International</th>\n",
       "      <th>Animated</th>\n",
       "      <th>RT Critic Score</th>\n",
       "      <th>RT Audience Score</th>\n",
       "      <th>IMDb Rating</th>\n",
       "      <th>Rating</th>\n",
       "      <th>Viewership (Millions)</th>\n",
       "    </tr>\n",
       "  </thead>\n",
       "  <tbody>\n",
       "    <tr>\n",
       "      <th>1</th>\n",
       "      <td>#realityhigh</td>\n",
       "      <td>Film</td>\n",
       "      <td>2017</td>\n",
       "      <td>NaN</td>\n",
       "      <td>Female</td>\n",
       "      <td>Comedy</td>\n",
       "      <td>no</td>\n",
       "      <td>no</td>\n",
       "      <td>40.0</td>\n",
       "      <td>53.0</td>\n",
       "      <td>5.2</td>\n",
       "      <td>TV-14</td>\n",
       "      <td>NaN</td>\n",
       "    </tr>\n",
       "    <tr>\n",
       "      <th>2</th>\n",
       "      <td>13TH</td>\n",
       "      <td>Film</td>\n",
       "      <td>2016</td>\n",
       "      <td>NaN</td>\n",
       "      <td>Both</td>\n",
       "      <td>Crime</td>\n",
       "      <td>no</td>\n",
       "      <td>no</td>\n",
       "      <td>97.0</td>\n",
       "      <td>91.0</td>\n",
       "      <td>8.2</td>\n",
       "      <td>TV-MA</td>\n",
       "      <td>NaN</td>\n",
       "    </tr>\n",
       "    <tr>\n",
       "      <th>3</th>\n",
       "      <td>1922</td>\n",
       "      <td>Film</td>\n",
       "      <td>2017</td>\n",
       "      <td>NaN</td>\n",
       "      <td>Male</td>\n",
       "      <td>Thriller</td>\n",
       "      <td>no</td>\n",
       "      <td>no</td>\n",
       "      <td>88.0</td>\n",
       "      <td>57.0</td>\n",
       "      <td>6.3</td>\n",
       "      <td>TV-MA</td>\n",
       "      <td>NaN</td>\n",
       "    </tr>\n",
       "    <tr>\n",
       "      <th>4</th>\n",
       "      <td>1983</td>\n",
       "      <td>TV</td>\n",
       "      <td>2018</td>\n",
       "      <td>1</td>\n",
       "      <td>Male</td>\n",
       "      <td>Crime, Drama</td>\n",
       "      <td>yes</td>\n",
       "      <td>no</td>\n",
       "      <td>100.0</td>\n",
       "      <td>81.0</td>\n",
       "      <td>7.1</td>\n",
       "      <td>TV-MA</td>\n",
       "      <td>NaN</td>\n",
       "    </tr>\n",
       "    <tr>\n",
       "      <th>5</th>\n",
       "      <td>22 July</td>\n",
       "      <td>Film</td>\n",
       "      <td>2018</td>\n",
       "      <td>NaN</td>\n",
       "      <td>Both</td>\n",
       "      <td>Drama, Thriller</td>\n",
       "      <td>no</td>\n",
       "      <td>no</td>\n",
       "      <td>79.0</td>\n",
       "      <td>69.0</td>\n",
       "      <td>6.7</td>\n",
       "      <td>R</td>\n",
       "      <td>NaN</td>\n",
       "    </tr>\n",
       "  </tbody>\n",
       "</table>\n",
       "</div>"
      ],
      "text/plain": [
       "0         Title Type  Year Released Seasons Main Actor            Genre  \\\n",
       "1  #realityhigh  Film          2017     NaN     Female           Comedy   \n",
       "2          13TH  Film          2016     NaN       Both            Crime   \n",
       "3          1922  Film          2017     NaN       Male         Thriller   \n",
       "4          1983    TV          2018       1       Male     Crime, Drama   \n",
       "5       22 July  Film          2018     NaN       Both  Drama, Thriller   \n",
       "\n",
       "0 International Animated  RT Critic Score  RT Audience Score  IMDb Rating  \\\n",
       "1            no       no             40.0               53.0          5.2   \n",
       "2            no       no             97.0               91.0          8.2   \n",
       "3            no       no             88.0               57.0          6.3   \n",
       "4           yes       no            100.0               81.0          7.1   \n",
       "5            no       no             79.0               69.0          6.7   \n",
       "\n",
       "0 Rating Viewership (Millions)  \n",
       "1  TV-14                   NaN  \n",
       "2  TV-MA                   NaN  \n",
       "3  TV-MA                   NaN  \n",
       "4  TV-MA                   NaN  \n",
       "5      R                   NaN  "
      ]
     },
     "execution_count": 25,
     "metadata": {},
     "output_type": "execute_result"
    }
   ],
   "source": [
    "netflix.head()"
   ]
  },
  {
   "cell_type": "code",
   "execution_count": 4,
   "metadata": {},
   "outputs": [],
   "source": [
    "#Set the first row to become the columns\n",
    "netflix.columns = netflix.iloc[0]\n",
    "netflix.drop(netflix.index[0], inplace=True)"
   ]
  },
  {
   "cell_type": "code",
   "execution_count": 26,
   "metadata": {},
   "outputs": [
    {
     "data": {
      "text/html": [
       "<div>\n",
       "<style scoped>\n",
       "    .dataframe tbody tr th:only-of-type {\n",
       "        vertical-align: middle;\n",
       "    }\n",
       "\n",
       "    .dataframe tbody tr th {\n",
       "        vertical-align: top;\n",
       "    }\n",
       "\n",
       "    .dataframe thead th {\n",
       "        text-align: right;\n",
       "    }\n",
       "</style>\n",
       "<table border=\"1\" class=\"dataframe\">\n",
       "  <thead>\n",
       "    <tr style=\"text-align: right;\">\n",
       "      <th></th>\n",
       "      <th>Title</th>\n",
       "      <th>Type</th>\n",
       "      <th>Year Released</th>\n",
       "      <th>Seasons</th>\n",
       "      <th>Main Actor</th>\n",
       "      <th>Genre</th>\n",
       "      <th>International</th>\n",
       "      <th>Animated</th>\n",
       "      <th>RT Critic Score</th>\n",
       "      <th>RT Audience Score</th>\n",
       "      <th>IMDb Rating</th>\n",
       "      <th>Rating</th>\n",
       "      <th>Viewership (Millions)</th>\n",
       "    </tr>\n",
       "  </thead>\n",
       "  <tbody>\n",
       "    <tr>\n",
       "      <th>1</th>\n",
       "      <td>#realityhigh</td>\n",
       "      <td>Film</td>\n",
       "      <td>2017</td>\n",
       "      <td>NaN</td>\n",
       "      <td>Female</td>\n",
       "      <td>Comedy</td>\n",
       "      <td>no</td>\n",
       "      <td>no</td>\n",
       "      <td>40.0</td>\n",
       "      <td>53.0</td>\n",
       "      <td>5.2</td>\n",
       "      <td>TV-14</td>\n",
       "      <td>NaN</td>\n",
       "    </tr>\n",
       "    <tr>\n",
       "      <th>2</th>\n",
       "      <td>13TH</td>\n",
       "      <td>Film</td>\n",
       "      <td>2016</td>\n",
       "      <td>NaN</td>\n",
       "      <td>Both</td>\n",
       "      <td>Crime</td>\n",
       "      <td>no</td>\n",
       "      <td>no</td>\n",
       "      <td>97.0</td>\n",
       "      <td>91.0</td>\n",
       "      <td>8.2</td>\n",
       "      <td>TV-MA</td>\n",
       "      <td>NaN</td>\n",
       "    </tr>\n",
       "    <tr>\n",
       "      <th>3</th>\n",
       "      <td>1922</td>\n",
       "      <td>Film</td>\n",
       "      <td>2017</td>\n",
       "      <td>NaN</td>\n",
       "      <td>Male</td>\n",
       "      <td>Thriller</td>\n",
       "      <td>no</td>\n",
       "      <td>no</td>\n",
       "      <td>88.0</td>\n",
       "      <td>57.0</td>\n",
       "      <td>6.3</td>\n",
       "      <td>TV-MA</td>\n",
       "      <td>NaN</td>\n",
       "    </tr>\n",
       "    <tr>\n",
       "      <th>4</th>\n",
       "      <td>1983</td>\n",
       "      <td>TV</td>\n",
       "      <td>2018</td>\n",
       "      <td>1</td>\n",
       "      <td>Male</td>\n",
       "      <td>Crime, Drama</td>\n",
       "      <td>yes</td>\n",
       "      <td>no</td>\n",
       "      <td>100.0</td>\n",
       "      <td>81.0</td>\n",
       "      <td>7.1</td>\n",
       "      <td>TV-MA</td>\n",
       "      <td>NaN</td>\n",
       "    </tr>\n",
       "    <tr>\n",
       "      <th>5</th>\n",
       "      <td>22 July</td>\n",
       "      <td>Film</td>\n",
       "      <td>2018</td>\n",
       "      <td>NaN</td>\n",
       "      <td>Both</td>\n",
       "      <td>Drama, Thriller</td>\n",
       "      <td>no</td>\n",
       "      <td>no</td>\n",
       "      <td>79.0</td>\n",
       "      <td>69.0</td>\n",
       "      <td>6.7</td>\n",
       "      <td>R</td>\n",
       "      <td>NaN</td>\n",
       "    </tr>\n",
       "  </tbody>\n",
       "</table>\n",
       "</div>"
      ],
      "text/plain": [
       "0         Title Type  Year Released Seasons Main Actor            Genre  \\\n",
       "1  #realityhigh  Film          2017     NaN     Female           Comedy   \n",
       "2          13TH  Film          2016     NaN       Both            Crime   \n",
       "3          1922  Film          2017     NaN       Male         Thriller   \n",
       "4          1983    TV          2018       1       Male     Crime, Drama   \n",
       "5       22 July  Film          2018     NaN       Both  Drama, Thriller   \n",
       "\n",
       "0 International Animated  RT Critic Score  RT Audience Score  IMDb Rating  \\\n",
       "1            no       no             40.0               53.0          5.2   \n",
       "2            no       no             97.0               91.0          8.2   \n",
       "3            no       no             88.0               57.0          6.3   \n",
       "4           yes       no            100.0               81.0          7.1   \n",
       "5            no       no             79.0               69.0          6.7   \n",
       "\n",
       "0 Rating Viewership (Millions)  \n",
       "1  TV-14                   NaN  \n",
       "2  TV-MA                   NaN  \n",
       "3  TV-MA                   NaN  \n",
       "4  TV-MA                   NaN  \n",
       "5      R                   NaN  "
      ]
     },
     "execution_count": 26,
     "metadata": {},
     "output_type": "execute_result"
    }
   ],
   "source": [
    "netflix.head()"
   ]
  },
  {
   "cell_type": "code",
   "execution_count": null,
   "metadata": {},
   "outputs": [],
   "source": []
  },
  {
   "cell_type": "markdown",
   "metadata": {},
   "source": [
    "I'm not sure why, but the numerical values in the whole dataset turned out to be strings. It may have something to do with the fact that I created the dataset manually using excel and then converting it into a csv file. If anyone knows how to keep the numerical values as floats from the get go, please let me know."
   ]
  },
  {
   "cell_type": "code",
   "execution_count": 6,
   "metadata": {},
   "outputs": [],
   "source": [
    "#Changing all the numerical string values into floats\n",
    "netflix['RT Critic Score'] = netflix['RT Critic Score'].astype(float)\n",
    "netflix['RT Audience Score'] = netflix['RT Audience Score'].astype(float)\n",
    "netflix['IMDb Rating'] = netflix['IMDb Rating'].astype(float)"
   ]
  },
  {
   "cell_type": "code",
   "execution_count": null,
   "metadata": {},
   "outputs": [],
   "source": []
  },
  {
   "cell_type": "markdown",
   "metadata": {},
   "source": [
    "## Rotten Tomatoes Critic vs. Audience Score "
   ]
  },
  {
   "cell_type": "markdown",
   "metadata": {},
   "source": [
    "A visualization of the relationship between Rotton Tomatoes' Critic Score and its' Audience Score. A hue of the gender of the main actor has also been applied."
   ]
  },
  {
   "cell_type": "code",
   "execution_count": 11,
   "metadata": {
    "scrolled": true
   },
   "outputs": [
    {
     "data": {
      "image/png": "[encoded data removed]",
      "text/plain": [
       "<Figure size 720x360 with 1 Axes>"
      ]
     },
     "metadata": {},
     "output_type": "display_data"
    }
   ],
   "source": [
    "plt.figure(figsize=(10, 5))\n",
    "sns.scatterplot(x='RT Critic Score', y='RT Audience Score', data=netflix, palette='coolwarm', hue='Main Actor')\n",
    "sns.set_style('white')"
   ]
  },
  {
   "cell_type": "markdown",
   "metadata": {},
   "source": [
    "There doesn't seem to be much of a pattern on the above plot, except that for the most part, if a TV or Film's Critic Score is high, it usually means its' Audience Score will be high as well. \n",
    "In some cases, there is a disconnect between critics and the audience as some content that earned a low critic score, recieved a high audience score."
   ]
  },
  {
   "cell_type": "code",
   "execution_count": null,
   "metadata": {},
   "outputs": [],
   "source": []
  },
  {
   "cell_type": "markdown",
   "metadata": {},
   "source": [
    "## Visualization of Gender Data "
   ]
  },
  {
   "cell_type": "code",
   "execution_count": 31,
   "metadata": {},
   "outputs": [
    {
     "data": {
      "text/plain": [
       "<matplotlib.axes._subplots.AxesSubplot at 0x21f17a914a8>"
      ]
     },
     "execution_count": 31,
     "metadata": {},
     "output_type": "execute_result"
    },
    {
     "data": {
      "image/png": "[encoded data removed]",
      "text/plain": [
       "<Figure size 432x288 with 1 Axes>"
      ]
     },
     "metadata": {},
     "output_type": "display_data"
    }
   ],
   "source": [
    "sns.countplot(data=netflix, x='Main Actor')"
   ]
  },
  {
   "cell_type": "markdown",
   "metadata": {},
   "source": [
    "The plot above shows us that more male actors starred in Netflix's notable productions than females."
   ]
  },
  {
   "cell_type": "code",
   "execution_count": 30,
   "metadata": {
    "scrolled": false
   },
   "outputs": [
    {
     "data": {
      "text/plain": [
       "<matplotlib.legend.Legend at 0x21f1729fc18>"
      ]
     },
     "execution_count": 30,
     "metadata": {},
     "output_type": "execute_result"
    },
    {
     "data": {
      "image/png": "[encoded data removed]",
      "text/plain": [
       "<Figure size 1008x360 with 1 Axes>"
      ]
     },
     "metadata": {},
     "output_type": "display_data"
    }
   ],
   "source": [
    "plt.figure(figsize=(14, 5))\n",
    "sns.countplot(data=netflix, x='IMDb Rating', hue='Main Actor')\n",
    "plt.tight_layout()\n",
    "plt.legend(bbox_to_anchor=(1.05, 1), loc=2, borderaxespad=0.) #relocate the legend"
   ]
  },
  {
   "cell_type": "markdown",
   "metadata": {},
   "source": [
    "The above plot shows that on average, it was the content that featured a male actor, or both a male/female actor that got an IMDb rating above 8.0, while content solely featuring a female actor had overall lower ratings. \n",
    "\n",
    "Of course, this could be due to the content I added into the dataset from the references I used, and the fact that there were more entries in the dataset that featured a male actor (as can be seen in the previous count plot). More information on Netflix content is needed in order to visualize further trends."
   ]
  },
  {
   "cell_type": "code",
   "execution_count": null,
   "metadata": {},
   "outputs": [],
   "source": []
  },
  {
   "cell_type": "markdown",
   "metadata": {},
   "source": [
    "## Parental Guideline Visualization "
   ]
  },
  {
   "cell_type": "code",
   "execution_count": 34,
   "metadata": {},
   "outputs": [
    {
     "data": {
      "text/plain": [
       "<matplotlib.axes._subplots.AxesSubplot at 0x21f1890a898>"
      ]
     },
     "execution_count": 34,
     "metadata": {},
     "output_type": "execute_result"
    },
    {
     "data": {
      "image/png": "[encoded data removed]",
      "text/plain": [
       "<Figure size 432x288 with 1 Axes>"
      ]
     },
     "metadata": {},
     "output_type": "display_data"
    }
   ],
   "source": [
    "sns.countplot(data=netflix, x='Rating')"
   ]
  },
  {
   "cell_type": "code",
   "execution_count": 33,
   "metadata": {
    "scrolled": true
   },
   "outputs": [
    {
     "data": {
      "text/plain": [
       "<matplotlib.legend.Legend at 0x21f185dd7f0>"
      ]
     },
     "execution_count": 33,
     "metadata": {},
     "output_type": "execute_result"
    },
    {
     "data": {
      "image/png": "[encoded data removed]",
      "text/plain": [
       "<Figure size 1008x360 with 1 Axes>"
      ]
     },
     "metadata": {},
     "output_type": "display_data"
    }
   ],
   "source": [
    "plt.figure(figsize=(14, 5))\n",
    "sns.countplot(data=netflix, x='IMDb Rating', hue='Rating')\n",
    "plt.tight_layout()\n",
    "plt.legend(bbox_to_anchor=(1.05, 1), loc=2, borderaxespad=0.) #relocate the legend"
   ]
  },
  {
   "cell_type": "markdown",
   "metadata": {},
   "source": [
    "The plot above shows us that the content with a rating of 'TV-MA' is the type of content that garners the highest IMDb score. This may be because the majority of the entries in the dataset have a rating of TV-MA, but it shows us that these are the types of content that Netflix produces the most. \n",
    "\n",
    "This makes sense because it tells me that Netflix has probably done research and determined TV-MA rated content is the most popular and has the potential to achieve the highest ratings."
   ]
  },
  {
   "cell_type": "code",
   "execution_count": null,
   "metadata": {},
   "outputs": [],
   "source": []
  },
  {
   "cell_type": "markdown",
   "metadata": {},
   "source": [
    "## Distribution of Ratings "
   ]
  },
  {
   "cell_type": "code",
   "execution_count": 25,
   "metadata": {},
   "outputs": [
    {
     "data": {
      "image/png": "[encoded data removed]",
      "text/plain": [
       "<Figure size 864x432 with 1 Axes>"
      ]
     },
     "metadata": {},
     "output_type": "display_data"
    }
   ],
   "source": [
    "plt.figure(figsize=(12, 6))\n",
    "sns.distplot(netflix['RT Critic Score'], bins=30, kde=False)\n",
    "sns.set_style('white')"
   ]
  },
  {
   "cell_type": "code",
   "execution_count": 26,
   "metadata": {},
   "outputs": [
    {
     "data": {
      "image/png": "[encoded data removed]",
      "text/plain": [
       "<Figure size 864x432 with 1 Axes>"
      ]
     },
     "metadata": {},
     "output_type": "display_data"
    }
   ],
   "source": [
    "plt.figure(figsize=(12, 6))\n",
    "sns.distplot(netflix['RT Audience Score'], bins=30, kde=False)\n",
    "sns.set_style('white')"
   ]
  },
  {
   "cell_type": "code",
   "execution_count": 27,
   "metadata": {},
   "outputs": [
    {
     "data": {
      "image/png": "[encoded data removed]",
      "text/plain": [
       "<Figure size 864x432 with 1 Axes>"
      ]
     },
     "metadata": {},
     "output_type": "display_data"
    }
   ],
   "source": [
    "plt.figure(figsize=(12, 6))\n",
    "sns.distplot(netflix['IMDb Rating'], bins=30, kde=False)\n",
    "sns.set_style('white')"
   ]
  },
  {
   "cell_type": "markdown",
   "metadata": {},
   "source": [
    "The distribtion plots above show us that, on average, most Netflix productions recieve a rating of 70% or higher."
   ]
  },
  {
   "cell_type": "code",
   "execution_count": null,
   "metadata": {},
   "outputs": [],
   "source": []
  }
 ],
 "metadata": {
  "kernelspec": {
   "display_name": "Python 3",
   "language": "python",
   "name": "python3"
  },
  "language_info": {
   "codemirror_mode": {
    "name": "ipython",
    "version": 3
   },
   "file_extension": ".py",
   "mimetype": "text/x-python",
   "name": "python",
   "nbconvert_exporter": "python",
   "pygments_lexer": "ipython3",
   "version": "3.7.1"
  }
 },
 "nbformat": 4,
 "nbformat_minor": 2
}
